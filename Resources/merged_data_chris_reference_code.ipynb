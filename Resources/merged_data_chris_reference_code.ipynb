{
 "cells": [
  {
   "cell_type": "code",
   "execution_count": 1,
   "metadata": {},
   "outputs": [],
   "source": [
    "# Dependencies\n",
    "import pandas as pd\n",
    "import matplotlib.pyplot as plt"
   ]
  },
  {
   "cell_type": "code",
   "execution_count": 2,
   "metadata": {},
   "outputs": [],
   "source": [
    "## Paths to data tables ##\n",
    "\n",
    "# Infant mortality \n",
    "infant_mortality = \"Resources/infant_mortality.csv\"\n",
    "\n",
    "# Maternal mortality\n",
    "maternal_mortality = \"Resources/maternal_mortality.csv\"\n",
    "\n",
    "# Life expectancy\n",
    "life_expectancy = \"Resources/life_expectancy.csv\"\n",
    "\n",
    "# Avoidable mortality\n",
    "avoidable_mortality = \"Resources/avoidable_mortality.csv\"\n",
    "\n",
    "# Heart disease\n",
    "heart_disease_mortality = \"Resources/heart_disease_mortality.csv\"\n",
    "\n",
    "# Health expenditure and financing\n",
    "expenditure_financing = \"Resources/expenditure_financing.csv\"\n",
    "\n",
    "# Percent insured\n",
    "percent_insured = \"Resources/percent_insured.csv\"\n",
    "\n",
    "# Health expenditure by financing scheme\n",
    "expenditure_by_scheme = \"Resources/expenditure_by_scheme.csv\"\n",
    "\n",
    "# Percentage GDP\n",
    "percent_gdp = \"Resources/percent_gdp.csv\"\n"
   ]
  },
  {
   "cell_type": "code",
   "execution_count": 3,
   "metadata": {},
   "outputs": [],
   "source": [
    "# Read in files using Pandas\n",
    "life_expectancy_file = pd.read_csv(life_expectancy)\n",
    "avoidable_mortality_file = pd.read_csv(avoidable_mortality)\n",
    "infant_mortality_file = pd.read_csv(infant_mortality)\n",
    "maternal_mortality_file = pd.read_csv(maternal_mortality)\n",
    "heart_disease_mortality_file = pd.read_csv(heart_disease_mortality)\n",
    "expenditure_financing_file = pd.read_csv(expenditure_financing)\n",
    "percent_insured_file = pd.read_csv(percent_insured)\n",
    "expenditure_by_scheme_file = pd.read_csv(expenditure_by_scheme)\n",
    "percent_gdp_file = pd.read_csv(percent_gdp)"
   ]
  },
  {
   "cell_type": "code",
   "execution_count": 4,
   "metadata": {},
   "outputs": [
    {
     "name": "stdout",
     "output_type": "stream",
     "text": [
      "49\n",
      "41\n",
      "49\n",
      "38\n",
      "42\n",
      "50\n",
      "40\n",
      "50\n"
     ]
    }
   ],
   "source": [
    "#### Reorganize and rename each data set's columns for purpose of merge and readability ###\n",
    "\n",
    "# Life expectancy \n",
    "\n",
    "life_expectancy_file = life_expectancy_file[[\"Country\", \"Year\", \"Value\"]]\n",
    "life_expectancy_df = life_expectancy_file.rename(columns = {\"Value\": \"Life Expectancy (Years)\"})\n",
    "\n",
    "# Avoidable mortality\n",
    "avoidable_mortality_file = avoidable_mortality_file[[\"Country\", \"Year\", \"Value\"]]\n",
    "avoidable_mortality_df = avoidable_mortality_file.rename(columns = {\"Value\": \"Avoidable Deaths Per 100,000 Population\"})\n",
    "\n",
    "# Infant mortality \n",
    "infant_mortality_file = infant_mortality_file[[\"Country\", \"Year\", \"Value\"]]\n",
    "infant_mortality_df = infant_mortality_file.rename(columns = {\"Value\": \"Infant Mortality (Deaths per 1,000 Live Births)\"})\n",
    "\n",
    "# Maternal mortality\n",
    "maternal_mortality_file = maternal_mortality_file[[\"Country\", \"Year\", \"Value\"]]\n",
    "maternal_mortality_df = maternal_mortality_file.rename(columns = {\"Value\": \"Maternal Mortality (Deaths per 100,000 Live Births)\"})\n",
    "\n",
    "# Heart disease mortality\n",
    "heart_disease_mortality_file = heart_disease_mortality_file[[\"Country\", \"Year\", \"Value\"]]\n",
    "heart_disease_mortality_df = heart_disease_mortality_file.rename(columns = {\"Value\": \"Death from Heart Disease per 100,000 Population\"})\n",
    "\n",
    "# Health expenditure per capita\n",
    "expenditure_financing_file = expenditure_financing_file[[\"Country\", \"Year\", \"Value\"]]\n",
    "expenditure_financing_df = expenditure_financing_file.rename(columns = {\"Value\": \"Health Expenditure Per Capita, Current Prices, Current PPP\"})\n",
    "\n",
    "# Percent of population insured\n",
    "percent_insured_file = percent_insured_file[[\"Country\", \"Year\", \"Value\"]]\n",
    "percent_insured_df = percent_insured_file.rename(columns = {\"Value\": \"Total Percent of Population with Health Insurance\"})\n",
    "\n",
    "# Percent GDP spent on health over 20 years\n",
    "percent_gdp_file = percent_gdp_file[[\"Country\", \"Year\", \"Value\"]]\n",
    "percent_gdp_df = percent_gdp_file.rename(columns = {\"Value\": \"Percent of GDP Spent on Health Care\"})\n",
    "\n",
    "print(life_expectancy_df[\"Country\"].nunique())\n",
    "print(avoidable_mortality_df[\"Country\"].nunique())\n",
    "print(infant_mortality_df[\"Country\"].nunique())\n",
    "print(maternal_mortality_df[\"Country\"].nunique())\n",
    "print(heart_disease_mortality_df[\"Country\"].nunique())\n",
    "print(expenditure_financing_df[\"Country\"].nunique())\n",
    "print(percent_insured_df[\"Country\"].nunique())\n",
    "print(percent_gdp_df[\"Country\"].nunique())"
   ]
  },
  {
   "cell_type": "code",
   "execution_count": 7,
   "metadata": {},
   "outputs": [
    {
     "data": {
      "text/plain": [
       "array(['Australia', 'Austria', 'Belgium', 'Canada', 'Czechia', 'Denmark',\n",
       "       'Finland', 'France', 'Germany', 'Greece', 'Hungary', 'Iceland',\n",
       "       'Ireland', 'Italy', 'Japan', 'Korea', 'Luxembourg', 'Mexico',\n",
       "       'Netherlands', 'New Zealand', 'Norway', 'Poland', 'Portugal',\n",
       "       'Slovak Republic', 'Spain', 'Sweden', 'Switzerland', 'Türkiye',\n",
       "       'United Kingdom', 'United States', 'Brazil', 'Chile',\n",
       "       \"China (People's Republic of)\", 'Estonia', 'India', 'Indonesia',\n",
       "       'Israel', 'Russia', 'Slovenia', 'South Africa', 'Latvia',\n",
       "       'Costa Rica', 'Lithuania', 'Colombia', 'Peru', 'Bulgaria',\n",
       "       'Croatia', 'Romania', 'Argentina', 'Malta', 'Cyprus'], dtype=object)"
      ]
     },
     "execution_count": 7,
     "metadata": {},
     "output_type": "execute_result"
    }
   ],
   "source": [
    "## Merge above data tables into one large table\n",
    "merge1 = pd.merge(life_expectancy_df, avoidable_mortality_df, on=[\"Country\", \"Year\"], how='outer')\n",
    "merge2 = pd.merge(merge1, infant_mortality_df, on=[\"Country\", \"Year\"], how='outer')\n",
    "merge3 = pd.merge(merge2, maternal_mortality_df, on=[\"Country\", \"Year\"], how='outer')\n",
    "merge4 = pd.merge(merge3, heart_disease_mortality_df, on=[\"Country\", \"Year\"], how='outer')\n",
    "merge5 = pd.merge(merge4, expenditure_financing_df, on=[\"Country\", \"Year\"], how='outer')\n",
    "merge6 = pd.merge(merge5, percent_insured_df, on=[\"Country\", \"Year\"], how='outer')\n",
    "\n",
    "# Rename main table\n",
    "health_spending = merge6\n",
    "\n",
    "# Show main table\n",
    "#health_spending.head(20)\n",
    "\n",
    "pd.unique(health_spending['Country'])\n",
    "\n",
    "#len(health_spending['Country'])\n"
   ]
  },
  {
   "cell_type": "code",
   "execution_count": 20,
   "metadata": {},
   "outputs": [],
   "source": [
    "health_spending.to_csv(\"Resources/main_table.csv\", index_label=\"Country\")"
   ]
  },
  {
   "cell_type": "code",
   "execution_count": null,
   "metadata": {},
   "outputs": [],
   "source": []
  }
 ],
 "metadata": {
  "kernelspec": {
   "display_name": "dev",
   "language": "python",
   "name": "python3"
  },
  "language_info": {
   "codemirror_mode": {
    "name": "ipython",
    "version": 3
   },
   "file_extension": ".py",
   "mimetype": "text/x-python",
   "name": "python",
   "nbconvert_exporter": "python",
   "pygments_lexer": "ipython3",
   "version": "3.10.13"
  }
 },
 "nbformat": 4,
 "nbformat_minor": 2
}
