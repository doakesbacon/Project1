{
 "cells": [
  {
   "cell_type": "code",
   "execution_count": 1,
   "metadata": {},
   "outputs": [],
   "source": [
    "# Import dependencies\n",
    "import pandas as pd\n",
    "import matplotlib.pyplot as plt\n",
    "from scipy.stats import linregress\n",
    "import numpy as np"
   ]
  },
  {
   "cell_type": "code",
   "execution_count": 2,
   "metadata": {},
   "outputs": [],
   "source": [
    "# Read CSV into pandas dataframe\n",
    "gdp_and_health_df = pd.read_csv('Resources/gdp_health_per_cap.csv')\n"
   ]
  },
  {
   "cell_type": "code",
   "execution_count": 3,
   "metadata": {},
   "outputs": [
    {
     "data": {
      "text/html": [
       "<div>\n",
       "<style scoped>\n",
       "    .dataframe tbody tr th:only-of-type {\n",
       "        vertical-align: middle;\n",
       "    }\n",
       "\n",
       "    .dataframe tbody tr th {\n",
       "        vertical-align: top;\n",
       "    }\n",
       "\n",
       "    .dataframe thead th {\n",
       "        text-align: right;\n",
       "    }\n",
       "</style>\n",
       "<table border=\"1\" class=\"dataframe\">\n",
       "  <thead>\n",
       "    <tr style=\"text-align: right;\">\n",
       "      <th></th>\n",
       "      <th>Time</th>\n",
       "      <th>Time Code</th>\n",
       "      <th>Country Name</th>\n",
       "      <th>Country Code</th>\n",
       "      <th>GDP per capita, PPP (current international $) [NY.GDP.PCAP.PP.CD]</th>\n",
       "      <th>Current health expenditure per capita, PPP (current international $) [SH.XPD.CHEX.PP.CD]</th>\n",
       "    </tr>\n",
       "  </thead>\n",
       "  <tbody>\n",
       "    <tr>\n",
       "      <th>0</th>\n",
       "      <td>2018</td>\n",
       "      <td>YR2018</td>\n",
       "      <td>Australia</td>\n",
       "      <td>AUS</td>\n",
       "      <td>50192.957328</td>\n",
       "      <td>5337.97600331473</td>\n",
       "    </tr>\n",
       "  </tbody>\n",
       "</table>\n",
       "</div>"
      ],
      "text/plain": [
       "   Time Time Code Country Name Country Code  \\\n",
       "0  2018    YR2018    Australia          AUS   \n",
       "\n",
       "   GDP per capita, PPP (current international $) [NY.GDP.PCAP.PP.CD]  \\\n",
       "0                                       50192.957328                   \n",
       "\n",
       "  Current health expenditure per capita, PPP (current international $) [SH.XPD.CHEX.PP.CD]  \n",
       "0                                   5337.97600331473                                        "
      ]
     },
     "execution_count": 3,
     "metadata": {},
     "output_type": "execute_result"
    }
   ],
   "source": [
    "# Clean the DataFrame\n",
    "gdp_health_clean = gdp_and_health_df.dropna(how='any')\n",
    "gdp_health_clean.head(1)"
   ]
  },
  {
   "cell_type": "code",
   "execution_count": 4,
   "metadata": {},
   "outputs": [
    {
     "data": {
      "text/plain": [
       "Index(['Time', 'Time Code', 'Country Name', 'Country Code',\n",
       "       'GDP per capita, PPP (current international $) [NY.GDP.PCAP.PP.CD]',\n",
       "       'Current health expenditure per capita, PPP (current international $) [SH.XPD.CHEX.PP.CD]'],\n",
       "      dtype='object')"
      ]
     },
     "execution_count": 4,
     "metadata": {},
     "output_type": "execute_result"
    }
   ],
   "source": [
    "gdp_health_clean.columns"
   ]
  },
  {
   "cell_type": "code",
   "execution_count": 5,
   "metadata": {},
   "outputs": [
    {
     "data": {
      "text/html": [
       "<div>\n",
       "<style scoped>\n",
       "    .dataframe tbody tr th:only-of-type {\n",
       "        vertical-align: middle;\n",
       "    }\n",
       "\n",
       "    .dataframe tbody tr th {\n",
       "        vertical-align: top;\n",
       "    }\n",
       "\n",
       "    .dataframe thead th {\n",
       "        text-align: right;\n",
       "    }\n",
       "</style>\n",
       "<table border=\"1\" class=\"dataframe\">\n",
       "  <thead>\n",
       "    <tr style=\"text-align: right;\">\n",
       "      <th></th>\n",
       "      <th>Time</th>\n",
       "      <th>Country Name</th>\n",
       "      <th>Country Code</th>\n",
       "      <th>GDP per capita, PPP (current international $) [NY.GDP.PCAP.PP.CD]</th>\n",
       "      <th>Current health expenditure per capita, PPP (current international $) [SH.XPD.CHEX.PP.CD]</th>\n",
       "    </tr>\n",
       "  </thead>\n",
       "  <tbody>\n",
       "    <tr>\n",
       "      <th>0</th>\n",
       "      <td>2018</td>\n",
       "      <td>Australia</td>\n",
       "      <td>AUS</td>\n",
       "      <td>50192.957328</td>\n",
       "      <td>5337.97600331473</td>\n",
       "    </tr>\n",
       "  </tbody>\n",
       "</table>\n",
       "</div>"
      ],
      "text/plain": [
       "   Time Country Name Country Code  \\\n",
       "0  2018    Australia          AUS   \n",
       "\n",
       "   GDP per capita, PPP (current international $) [NY.GDP.PCAP.PP.CD]  \\\n",
       "0                                       50192.957328                   \n",
       "\n",
       "  Current health expenditure per capita, PPP (current international $) [SH.XPD.CHEX.PP.CD]  \n",
       "0                                   5337.97600331473                                        "
      ]
     },
     "execution_count": 5,
     "metadata": {},
     "output_type": "execute_result"
    }
   ],
   "source": [
    "# Removing unwanted columns\n",
    "gdp_health_reduced = gdp_health_clean[['Time', 'Country Name', 'Country Code',\n",
    "       'GDP per capita, PPP (current international $) [NY.GDP.PCAP.PP.CD]',\n",
    "       'Current health expenditure per capita, PPP (current international $) [SH.XPD.CHEX.PP.CD]']]\n",
    "\n",
    "gdp_health_reduced.head(1)"
   ]
  },
  {
   "cell_type": "code",
   "execution_count": 6,
   "metadata": {},
   "outputs": [
    {
     "data": {
      "text/plain": [
       "array(['Australia', 'Austria', 'Belgium', 'Canada', 'Czechia', 'Denmark',\n",
       "       'Finland', 'France', 'Germany', 'Greece', 'Hungary', 'Iceland',\n",
       "       'Ireland', 'Italy', 'Japan', 'Korea, Rep.', 'Luxembourg', 'Mexico',\n",
       "       'Netherlands', 'New Zealand', 'Norway', 'Poland', 'Portugal',\n",
       "       'Slovak Republic', 'Spain', 'Sweden', 'Switzerland', 'Turkiye',\n",
       "       'United Kingdom', 'United States', 'Brazil', 'Chile', 'China',\n",
       "       'Estonia', 'India', 'Indonesia', 'Israel', 'Russian Federation',\n",
       "       'Slovenia', 'South Africa', 'Latvia', 'Costa Rica', 'Lithuania',\n",
       "       'Colombia', 'Peru', 'Bulgaria', 'Croatia', 'Romania', 'Argentina',\n",
       "       'Malta', 'Cyprus', nan], dtype=object)"
      ]
     },
     "execution_count": 6,
     "metadata": {},
     "output_type": "execute_result"
    }
   ],
   "source": [
    "# Rename columns \n",
    "gdp_health_df = gdp_health_reduced.rename(columns={'GDP per capita, PPP (current international $) [NY.GDP.PCAP.PP.CD]' : 'GDP per capita, PPP (current international $)' , \n",
    "                                                   'Current health expenditure per capita, PPP (current international $) [SH.XPD.CHEX.PP.CD]' : 'Current health expenditure per capita, PPP (current international $)'})\n",
    "\n",
    "# New DataFrame of most recent year with data available* \n",
    "#   (2021 has several countries with missing info)\n",
    "gdp_health_df_2020 = gdp_health_df.loc[gdp_health_df['Time']== '2020']\n",
    "\n",
    "#gdp_health_df_2020\n",
    "\n",
    "pd.unique(gdp_and_health_df['Country Name'])"
   ]
  },
  {
   "cell_type": "code",
   "execution_count": 7,
   "metadata": {},
   "outputs": [
    {
     "name": "stderr",
     "output_type": "stream",
     "text": [
      "C:\\Users\\chris\\AppData\\Local\\Temp\\ipykernel_4504\\963506661.py:2: SettingWithCopyWarning: \n",
      "A value is trying to be set on a copy of a slice from a DataFrame.\n",
      "Try using .loc[row_indexer,col_indexer] = value instead\n",
      "\n",
      "See the caveats in the documentation: https://pandas.pydata.org/pandas-docs/stable/user_guide/indexing.html#returning-a-view-versus-a-copy\n",
      "  gdp_health_df_2020[\"GDP per capita, PPP (current international $)\"] = gdp_health_df_2020[\"GDP per capita, PPP (current international $)\"].astype('float')\n",
      "C:\\Users\\chris\\AppData\\Local\\Temp\\ipykernel_4504\\963506661.py:3: SettingWithCopyWarning: \n",
      "A value is trying to be set on a copy of a slice from a DataFrame.\n",
      "Try using .loc[row_indexer,col_indexer] = value instead\n",
      "\n",
      "See the caveats in the documentation: https://pandas.pydata.org/pandas-docs/stable/user_guide/indexing.html#returning-a-view-versus-a-copy\n",
      "  gdp_health_df_2020[\"Current health expenditure per capita, PPP (current international $)\"] = gdp_health_df_2020[\"Current health expenditure per capita, PPP (current international $)\"].astype('float')\n"
     ]
    }
   ],
   "source": [
    "# Re-cast series as float type\n",
    "gdp_health_df_2020[\"GDP per capita, PPP (current international $)\"] = gdp_health_df_2020[\"GDP per capita, PPP (current international $)\"].astype('float')\n",
    "gdp_health_df_2020[\"Current health expenditure per capita, PPP (current international $)\"] = gdp_health_df_2020[\"Current health expenditure per capita, PPP (current international $)\"].astype('float')"
   ]
  },
  {
   "cell_type": "code",
   "execution_count": 9,
   "metadata": {},
   "outputs": [],
   "source": [
    "# New Data Frame without USA data to obtain comparable country average \n",
    "all_but_us_2020 = gdp_health_df_2020.loc[gdp_health_df['Country Name'] != \"United States\",:]\n",
    "#all_but_us_2020"
   ]
  },
  {
   "cell_type": "code",
   "execution_count": 10,
   "metadata": {},
   "outputs": [
    {
     "name": "stderr",
     "output_type": "stream",
     "text": [
      "C:\\Users\\chris\\AppData\\Local\\Temp\\ipykernel_4504\\662946502.py:2: SettingWithCopyWarning: \n",
      "A value is trying to be set on a copy of a slice from a DataFrame.\n",
      "Try using .loc[row_indexer,col_indexer] = value instead\n",
      "\n",
      "See the caveats in the documentation: https://pandas.pydata.org/pandas-docs/stable/user_guide/indexing.html#returning-a-view-versus-a-copy\n",
      "  all_but_us_2020[\"Current health expenditure per capita, PPP (current international $)\"] = all_but_us_2020[\"Current health expenditure per capita, PPP (current international $)\"].astype('float')\n"
     ]
    }
   ],
   "source": [
    "# Cast health expenditure coulmn as float for mean calculation\n",
    "all_but_us_2020[\"Current health expenditure per capita, PPP (current international $)\"] = all_but_us_2020[\"Current health expenditure per capita, PPP (current international $)\"].astype('float')"
   ]
  },
  {
   "cell_type": "code",
   "execution_count": 11,
   "metadata": {},
   "outputs": [
    {
     "data": {
      "text/plain": [
       "3721.5118186682143"
      ]
     },
     "execution_count": 11,
     "metadata": {},
     "output_type": "execute_result"
    }
   ],
   "source": [
    "# Calculate average of health expenditure per Capita for most recent year data\n",
    "#health_avg_2020 = all_but_us_2020[\"Current health expenditure per capita, PPP (current international $)\"].mean()\n",
    "#health_avg_2020"
   ]
  },
  {
   "cell_type": "code",
   "execution_count": 12,
   "metadata": {},
   "outputs": [],
   "source": [
    "# New DataFrame for 2020 year data\n",
    "#gdp_health_df_2020 = gdp_health_df.loc[gdp_health_df['Time']== '2020']\n",
    "#gdp_health_df_2020"
   ]
  },
  {
   "cell_type": "code",
   "execution_count": 13,
   "metadata": {},
   "outputs": [],
   "source": [
    "# Sort values of 2020 data based on Health expenditure data\n",
    "gdp_health_df_2020 = gdp_health_df_2020.sort_values(by='Current health expenditure per capita, PPP (current international $)')\n",
    "\n",
    "# Reset index\n",
    "gdp_health_df_2020 = gdp_health_df_2020.reset_index()\n",
    "\n",
    "#gdp_health_df_2020"
   ]
  },
  {
   "cell_type": "code",
   "execution_count": 17,
   "metadata": {},
   "outputs": [
    {
     "data": {
      "text/html": [
       "<div>\n",
       "<style scoped>\n",
       "    .dataframe tbody tr th:only-of-type {\n",
       "        vertical-align: middle;\n",
       "    }\n",
       "\n",
       "    .dataframe tbody tr th {\n",
       "        vertical-align: top;\n",
       "    }\n",
       "\n",
       "    .dataframe thead th {\n",
       "        text-align: right;\n",
       "    }\n",
       "</style>\n",
       "<table border=\"1\" class=\"dataframe\">\n",
       "  <thead>\n",
       "    <tr style=\"text-align: right;\">\n",
       "      <th></th>\n",
       "      <th>Time</th>\n",
       "      <th>Country Name</th>\n",
       "      <th>Country Code</th>\n",
       "      <th>GDP per capita, PPP (current international $)</th>\n",
       "      <th>Current health expenditure per capita, PPP (current international $)</th>\n",
       "    </tr>\n",
       "  </thead>\n",
       "  <tbody>\n",
       "    <tr>\n",
       "      <th>102</th>\n",
       "      <td>2020</td>\n",
       "      <td>Australia</td>\n",
       "      <td>AUS</td>\n",
       "      <td>53066.490989</td>\n",
       "      <td>5929.983600</td>\n",
       "    </tr>\n",
       "    <tr>\n",
       "      <th>103</th>\n",
       "      <td>2020</td>\n",
       "      <td>Austria</td>\n",
       "      <td>AUT</td>\n",
       "      <td>57258.690227</td>\n",
       "      <td>6400.895378</td>\n",
       "    </tr>\n",
       "    <tr>\n",
       "      <th>104</th>\n",
       "      <td>2020</td>\n",
       "      <td>Belgium</td>\n",
       "      <td>BEL</td>\n",
       "      <td>54569.925385</td>\n",
       "      <td>5883.081420</td>\n",
       "    </tr>\n",
       "    <tr>\n",
       "      <th>105</th>\n",
       "      <td>2020</td>\n",
       "      <td>Canada</td>\n",
       "      <td>CAN</td>\n",
       "      <td>47226.365140</td>\n",
       "      <td>6049.902410</td>\n",
       "    </tr>\n",
       "    <tr>\n",
       "      <th>107</th>\n",
       "      <td>2020</td>\n",
       "      <td>Denmark</td>\n",
       "      <td>DNK</td>\n",
       "      <td>60832.158291</td>\n",
       "      <td>6350.520949</td>\n",
       "    </tr>\n",
       "    <tr>\n",
       "      <th>108</th>\n",
       "      <td>2020</td>\n",
       "      <td>Finland</td>\n",
       "      <td>FIN</td>\n",
       "      <td>52305.289311</td>\n",
       "      <td>4896.908506</td>\n",
       "    </tr>\n",
       "    <tr>\n",
       "      <th>109</th>\n",
       "      <td>2020</td>\n",
       "      <td>France</td>\n",
       "      <td>FRA</td>\n",
       "      <td>48134.959795</td>\n",
       "      <td>5740.382129</td>\n",
       "    </tr>\n",
       "    <tr>\n",
       "      <th>110</th>\n",
       "      <td>2020</td>\n",
       "      <td>Germany</td>\n",
       "      <td>DEU</td>\n",
       "      <td>56482.475634</td>\n",
       "      <td>7031.941977</td>\n",
       "    </tr>\n",
       "    <tr>\n",
       "      <th>113</th>\n",
       "      <td>2020</td>\n",
       "      <td>Iceland</td>\n",
       "      <td>ISL</td>\n",
       "      <td>54303.904169</td>\n",
       "      <td>5099.783790</td>\n",
       "    </tr>\n",
       "    <tr>\n",
       "      <th>114</th>\n",
       "      <td>2020</td>\n",
       "      <td>Ireland</td>\n",
       "      <td>IRL</td>\n",
       "      <td>93942.605747</td>\n",
       "      <td>6657.551647</td>\n",
       "    </tr>\n",
       "    <tr>\n",
       "      <th>116</th>\n",
       "      <td>2020</td>\n",
       "      <td>Japan</td>\n",
       "      <td>JPN</td>\n",
       "      <td>41683.915584</td>\n",
       "      <td>4627.967016</td>\n",
       "    </tr>\n",
       "    <tr>\n",
       "      <th>118</th>\n",
       "      <td>2020</td>\n",
       "      <td>Luxembourg</td>\n",
       "      <td>LUX</td>\n",
       "      <td>120010.208308</td>\n",
       "      <td>6843.522729</td>\n",
       "    </tr>\n",
       "    <tr>\n",
       "      <th>120</th>\n",
       "      <td>2020</td>\n",
       "      <td>Netherlands</td>\n",
       "      <td>NLD</td>\n",
       "      <td>59822.954268</td>\n",
       "      <td>6612.778755</td>\n",
       "    </tr>\n",
       "    <tr>\n",
       "      <th>121</th>\n",
       "      <td>2020</td>\n",
       "      <td>New Zealand</td>\n",
       "      <td>NZL</td>\n",
       "      <td>45554.932939</td>\n",
       "      <td>4510.844703</td>\n",
       "    </tr>\n",
       "    <tr>\n",
       "      <th>122</th>\n",
       "      <td>2020</td>\n",
       "      <td>Norway</td>\n",
       "      <td>NOR</td>\n",
       "      <td>65130.172187</td>\n",
       "      <td>7168.356926</td>\n",
       "    </tr>\n",
       "    <tr>\n",
       "      <th>127</th>\n",
       "      <td>2020</td>\n",
       "      <td>Sweden</td>\n",
       "      <td>SWE</td>\n",
       "      <td>56140.552395</td>\n",
       "      <td>6346.616336</td>\n",
       "    </tr>\n",
       "    <tr>\n",
       "      <th>128</th>\n",
       "      <td>2020</td>\n",
       "      <td>Switzerland</td>\n",
       "      <td>CHE</td>\n",
       "      <td>70810.820690</td>\n",
       "      <td>8493.348330</td>\n",
       "    </tr>\n",
       "    <tr>\n",
       "      <th>130</th>\n",
       "      <td>2020</td>\n",
       "      <td>United Kingdom</td>\n",
       "      <td>GBR</td>\n",
       "      <td>45872.027289</td>\n",
       "      <td>5577.415887</td>\n",
       "    </tr>\n",
       "    <tr>\n",
       "      <th>151</th>\n",
       "      <td>2020</td>\n",
       "      <td>Malta</td>\n",
       "      <td>MLT</td>\n",
       "      <td>44925.831185</td>\n",
       "      <td>4694.663671</td>\n",
       "    </tr>\n",
       "  </tbody>\n",
       "</table>\n",
       "</div>"
      ],
      "text/plain": [
       "     Time    Country Name Country Code  \\\n",
       "102  2020       Australia          AUS   \n",
       "103  2020         Austria          AUT   \n",
       "104  2020         Belgium          BEL   \n",
       "105  2020          Canada          CAN   \n",
       "107  2020         Denmark          DNK   \n",
       "108  2020         Finland          FIN   \n",
       "109  2020          France          FRA   \n",
       "110  2020         Germany          DEU   \n",
       "113  2020         Iceland          ISL   \n",
       "114  2020         Ireland          IRL   \n",
       "116  2020           Japan          JPN   \n",
       "118  2020      Luxembourg          LUX   \n",
       "120  2020     Netherlands          NLD   \n",
       "121  2020     New Zealand          NZL   \n",
       "122  2020          Norway          NOR   \n",
       "127  2020          Sweden          SWE   \n",
       "128  2020     Switzerland          CHE   \n",
       "130  2020  United Kingdom          GBR   \n",
       "151  2020           Malta          MLT   \n",
       "\n",
       "     GDP per capita, PPP (current international $)  \\\n",
       "102                                   53066.490989   \n",
       "103                                   57258.690227   \n",
       "104                                   54569.925385   \n",
       "105                                   47226.365140   \n",
       "107                                   60832.158291   \n",
       "108                                   52305.289311   \n",
       "109                                   48134.959795   \n",
       "110                                   56482.475634   \n",
       "113                                   54303.904169   \n",
       "114                                   93942.605747   \n",
       "116                                   41683.915584   \n",
       "118                                  120010.208308   \n",
       "120                                   59822.954268   \n",
       "121                                   45554.932939   \n",
       "122                                   65130.172187   \n",
       "127                                   56140.552395   \n",
       "128                                   70810.820690   \n",
       "130                                   45872.027289   \n",
       "151                                   44925.831185   \n",
       "\n",
       "     Current health expenditure per capita, PPP (current international $)  \n",
       "102                                        5929.983600                     \n",
       "103                                        6400.895378                     \n",
       "104                                        5883.081420                     \n",
       "105                                        6049.902410                     \n",
       "107                                        6350.520949                     \n",
       "108                                        4896.908506                     \n",
       "109                                        5740.382129                     \n",
       "110                                        7031.941977                     \n",
       "113                                        5099.783790                     \n",
       "114                                        6657.551647                     \n",
       "116                                        4627.967016                     \n",
       "118                                        6843.522729                     \n",
       "120                                        6612.778755                     \n",
       "121                                        4510.844703                     \n",
       "122                                        7168.356926                     \n",
       "127                                        6346.616336                     \n",
       "128                                        8493.348330                     \n",
       "130                                        5577.415887                     \n",
       "151                                        4694.663671                     "
      ]
     },
     "execution_count": 17,
     "metadata": {},
     "output_type": "execute_result"
    }
   ],
   "source": [
    "# 19 countries closest to USA in Health Expenditure per capita , PPP (current international $) - excluding USA\n",
    "comparable_countries_reduced_2020 = all_but_us_2020.loc[all_but_us_2020['Current health expenditure per capita, PPP (current international $)']>= 4047.753611]\n",
    "\n",
    "comparable_countries_reduced_2020"
   ]
  },
  {
   "cell_type": "code",
   "execution_count": 18,
   "metadata": {},
   "outputs": [
    {
     "data": {
      "text/plain": [
       "6048.235061063615"
      ]
     },
     "execution_count": 18,
     "metadata": {},
     "output_type": "execute_result"
    }
   ],
   "source": [
    "# Calculate compartable country avergage of health expenditure per capita for 2020 \n",
    "comp_health_avg_2020 = comparable_countries_reduced_2020[\"Current health expenditure per capita, PPP (current international $)\"].mean()\n",
    "comp_health_avg_2020"
   ]
  },
  {
   "cell_type": "code",
   "execution_count": 19,
   "metadata": {},
   "outputs": [],
   "source": [
    "# Cast Health expenditure per capita column as float\n",
    "gdp_health_df_2020[\"Current health expenditure per capita, PPP (current international $)\"] = gdp_health_df_2020[\"Current health expenditure per capita, PPP (current international $)\"].astype('float')"
   ]
  },
  {
   "cell_type": "code",
   "execution_count": 21,
   "metadata": {},
   "outputs": [],
   "source": [
    "# New DataFrame of comparable countries including USA\n",
    "comparable_countries_2020 = gdp_health_df_2020.loc[gdp_health_df_2020['Current health expenditure per capita, PPP (current international $)'] >= 4047.753611]\n",
    "\n",
    "#comparable_countries_2020"
   ]
  },
  {
   "cell_type": "code",
   "execution_count": 22,
   "metadata": {},
   "outputs": [
    {
     "name": "stderr",
     "output_type": "stream",
     "text": [
      "C:\\Users\\chris\\AppData\\Local\\Temp\\ipykernel_4504\\3964646039.py:3: SettingWithCopyWarning: \n",
      "A value is trying to be set on a copy of a slice from a DataFrame\n",
      "\n",
      "See the caveats in the documentation: https://pandas.pydata.org/pandas-docs/stable/user_guide/indexing.html#returning-a-view-versus-a-copy\n",
      "  comparable_countries_2020.loc[len(comparable_countries_2020)] = new_row\n"
     ]
    }
   ],
   "source": [
    "# Add new row to new DataFrame: Comparable country average (for Health Expenditure per capita, PPP)\n",
    "new_row = {'Time' : '2020' , 'Country Name' : 'Comparable Country Avg', 'Country Code' : 'AVG', 'Current health expenditure per capita, PPP (current international $)' : comp_health_avg_2020 }\n",
    "comparable_countries_2020.loc[len(comparable_countries_2020)] = new_row\n",
    "\n",
    "#comparable_countries_2020 "
   ]
  },
  {
   "cell_type": "code",
   "execution_count": 24,
   "metadata": {},
   "outputs": [],
   "source": [
    "# Sort values of new DataFrame for barh figure\n",
    "comparable_countries_2020 = comparable_countries_2020.sort_values(by='Current health expenditure per capita, PPP (current international $)')\n",
    "\n",
    "#comparable_countries_2020"
   ]
  },
  {
   "cell_type": "code",
   "execution_count": 25,
   "metadata": {},
   "outputs": [
    {
     "data": {
      "image/png": "[encoded data removed]",
      "text/plain": [
       "<Figure size 900x600 with 1 Axes>"
      ]
     },
     "metadata": {},
     "output_type": "display_data"
    }
   ],
   "source": [
    "# Plot barh figure. // 19 COUNTRIES CLOSEST TO THE USA, USA & COMPARABLE COUNTRY AVERAGE\n",
    "fig = plt.figure(figsize=(9,6))\n",
    "ax1 = plt.subplot(111)\n",
    "# Setting barh params , adding aesthetics\n",
    "ret = ax1.barh(comparable_countries_2020['Country Name'], round(comparable_countries_2020['Current health expenditure per capita, PPP (current international $)'], 2), color='#C1CDCD')\n",
    "ret[9].set_color('#3D59AB')\n",
    "ret[20].set_color('#00CD00')\n",
    "\n",
    "# Adding more aesthetics and annotations \n",
    "ax1.xaxis.grid(linestyle = '--', linewidth=0.5)\n",
    "for pY, pX in enumerate(comparable_countries_2020['Current health expenditure per capita, PPP (current international $)']):\n",
    "    ax1.annotate(\"${:,.0f}\".format(pX) , xy=(pX+10, pY), fontstyle = 'italic' , va = 'center')\n",
    "\n",
    "ax1.xaxis.set_major_formatter(\"${x:,.0f}\")\n",
    "ax1.set_xlim(0, 13000)\n",
    "ax1.set_title(\"Current health expenditure per capita, PPP (current international $), 2020\")\n",
    "\n",
    "plt.show()"
   ]
  },
  {
   "cell_type": "code",
   "execution_count": null,
   "metadata": {},
   "outputs": [],
   "source": []
  }
 ],
 "metadata": {
  "kernelspec": {
   "display_name": "dev",
   "language": "python",
   "name": "python3"
  },
  "language_info": {
   "codemirror_mode": {
    "name": "ipython",
    "version": 3
   },
   "file_extension": ".py",
   "mimetype": "text/x-python",
   "name": "python",
   "nbconvert_exporter": "python",
   "pygments_lexer": "ipython3",
   "version": "3.10.13"
  }
 },
 "nbformat": 4,
 "nbformat_minor": 2
}
