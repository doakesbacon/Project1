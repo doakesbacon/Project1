{
 "cells": [
  {
   "cell_type": "code",
   "execution_count": 25,
   "metadata": {},
   "outputs": [],
   "source": [
    "import pandas as pd\n",
    "import matplotlib.pyplot as plt\n",
    "from scipy.stats import linregress\n",
    "import numpy as np\n",
    "import plotly.express as px\n",
    "import scipy.stats as st\n"
   ]
  },
  {
   "cell_type": "code",
   "execution_count": 2,
   "metadata": {},
   "outputs": [],
   "source": [
    "gdp_and_health_df = pd.read_csv('Resources/gdp_health_per_cap.csv')"
   ]
  },
  {
   "cell_type": "code",
   "execution_count": 3,
   "metadata": {},
   "outputs": [
    {
     "data": {
      "text/html": [
       "<div>\n",
       "<style scoped>\n",
       "    .dataframe tbody tr th:only-of-type {\n",
       "        vertical-align: middle;\n",
       "    }\n",
       "\n",
       "    .dataframe tbody tr th {\n",
       "        vertical-align: top;\n",
       "    }\n",
       "\n",
       "    .dataframe thead th {\n",
       "        text-align: right;\n",
       "    }\n",
       "</style>\n",
       "<table border=\"1\" class=\"dataframe\">\n",
       "  <thead>\n",
       "    <tr style=\"text-align: right;\">\n",
       "      <th></th>\n",
       "      <th>Time</th>\n",
       "      <th>Time Code</th>\n",
       "      <th>Country Name</th>\n",
       "      <th>Country Code</th>\n",
       "      <th>GDP per capita, PPP (current international $) [NY.GDP.PCAP.PP.CD]</th>\n",
       "      <th>Current health expenditure per capita, PPP (current international $) [SH.XPD.CHEX.PP.CD]</th>\n",
       "    </tr>\n",
       "  </thead>\n",
       "  <tbody>\n",
       "    <tr>\n",
       "      <th>0</th>\n",
       "      <td>2018</td>\n",
       "      <td>YR2018</td>\n",
       "      <td>Australia</td>\n",
       "      <td>AUS</td>\n",
       "      <td>50192.957328</td>\n",
       "      <td>5337.97600331473</td>\n",
       "    </tr>\n",
       "    <tr>\n",
       "      <th>1</th>\n",
       "      <td>2018</td>\n",
       "      <td>YR2018</td>\n",
       "      <td>Austria</td>\n",
       "      <td>AUT</td>\n",
       "      <td>56937.944283</td>\n",
       "      <td>5904.6178030162</td>\n",
       "    </tr>\n",
       "    <tr>\n",
       "      <th>2</th>\n",
       "      <td>2018</td>\n",
       "      <td>YR2018</td>\n",
       "      <td>Belgium</td>\n",
       "      <td>BEL</td>\n",
       "      <td>52530.562082</td>\n",
       "      <td>5681.59971452861</td>\n",
       "    </tr>\n",
       "    <tr>\n",
       "      <th>3</th>\n",
       "      <td>2018</td>\n",
       "      <td>YR2018</td>\n",
       "      <td>Canada</td>\n",
       "      <td>CAN</td>\n",
       "      <td>49992.762276</td>\n",
       "      <td>5426.62285887664</td>\n",
       "    </tr>\n",
       "    <tr>\n",
       "      <th>4</th>\n",
       "      <td>2018</td>\n",
       "      <td>YR2018</td>\n",
       "      <td>Czechia</td>\n",
       "      <td>CZE</td>\n",
       "      <td>41143.827049</td>\n",
       "      <td>3079.39915927473</td>\n",
       "    </tr>\n",
       "  </tbody>\n",
       "</table>\n",
       "</div>"
      ],
      "text/plain": [
       "   Time Time Code Country Name Country Code  \\\n",
       "0  2018    YR2018    Australia          AUS   \n",
       "1  2018    YR2018      Austria          AUT   \n",
       "2  2018    YR2018      Belgium          BEL   \n",
       "3  2018    YR2018       Canada          CAN   \n",
       "4  2018    YR2018      Czechia          CZE   \n",
       "\n",
       "   GDP per capita, PPP (current international $) [NY.GDP.PCAP.PP.CD]  \\\n",
       "0                                       50192.957328                   \n",
       "1                                       56937.944283                   \n",
       "2                                       52530.562082                   \n",
       "3                                       49992.762276                   \n",
       "4                                       41143.827049                   \n",
       "\n",
       "  Current health expenditure per capita, PPP (current international $) [SH.XPD.CHEX.PP.CD]  \n",
       "0                                   5337.97600331473                                        \n",
       "1                                    5904.6178030162                                        \n",
       "2                                   5681.59971452861                                        \n",
       "3                                   5426.62285887664                                        \n",
       "4                                   3079.39915927473                                        "
      ]
     },
     "execution_count": 3,
     "metadata": {},
     "output_type": "execute_result"
    }
   ],
   "source": [
    "# Set options to Review entire DataFrames\n",
    "pd.options.display.max_rows=None\n",
    "\n",
    "# Start with gdp per cap (ppp) & health expenditures per cap (ppp) \n",
    "gdp_and_health_df.head()"
   ]
  },
  {
   "cell_type": "code",
   "execution_count": 4,
   "metadata": {},
   "outputs": [
    {
     "data": {
      "text/html": [
       "<div>\n",
       "<style scoped>\n",
       "    .dataframe tbody tr th:only-of-type {\n",
       "        vertical-align: middle;\n",
       "    }\n",
       "\n",
       "    .dataframe tbody tr th {\n",
       "        vertical-align: top;\n",
       "    }\n",
       "\n",
       "    .dataframe thead th {\n",
       "        text-align: right;\n",
       "    }\n",
       "</style>\n",
       "<table border=\"1\" class=\"dataframe\">\n",
       "  <thead>\n",
       "    <tr style=\"text-align: right;\">\n",
       "      <th></th>\n",
       "      <th>Time</th>\n",
       "      <th>Time Code</th>\n",
       "      <th>Country Name</th>\n",
       "      <th>Country Code</th>\n",
       "      <th>GDP per capita, PPP (current international $) [NY.GDP.PCAP.PP.CD]</th>\n",
       "      <th>Current health expenditure per capita, PPP (current international $) [SH.XPD.CHEX.PP.CD]</th>\n",
       "    </tr>\n",
       "  </thead>\n",
       "  <tbody>\n",
       "    <tr>\n",
       "      <th>0</th>\n",
       "      <td>2018</td>\n",
       "      <td>YR2018</td>\n",
       "      <td>Australia</td>\n",
       "      <td>AUS</td>\n",
       "      <td>50192.957328</td>\n",
       "      <td>5337.97600331473</td>\n",
       "    </tr>\n",
       "  </tbody>\n",
       "</table>\n",
       "</div>"
      ],
      "text/plain": [
       "   Time Time Code Country Name Country Code  \\\n",
       "0  2018    YR2018    Australia          AUS   \n",
       "\n",
       "   GDP per capita, PPP (current international $) [NY.GDP.PCAP.PP.CD]  \\\n",
       "0                                       50192.957328                   \n",
       "\n",
       "  Current health expenditure per capita, PPP (current international $) [SH.XPD.CHEX.PP.CD]  \n",
       "0                                   5337.97600331473                                        "
      ]
     },
     "execution_count": 4,
     "metadata": {},
     "output_type": "execute_result"
    }
   ],
   "source": [
    "# Clean the DataFrame\n",
    "gdp_health_clean = gdp_and_health_df.dropna(how='any')\n",
    "gdp_health_clean.head(1)"
   ]
  },
  {
   "cell_type": "code",
   "execution_count": 5,
   "metadata": {},
   "outputs": [
    {
     "data": {
      "text/plain": [
       "Index(['Time', 'Time Code', 'Country Name', 'Country Code',\n",
       "       'GDP per capita, PPP (current international $) [NY.GDP.PCAP.PP.CD]',\n",
       "       'Current health expenditure per capita, PPP (current international $) [SH.XPD.CHEX.PP.CD]'],\n",
       "      dtype='object')"
      ]
     },
     "execution_count": 5,
     "metadata": {},
     "output_type": "execute_result"
    }
   ],
   "source": [
    "gdp_health_clean.columns"
   ]
  },
  {
   "cell_type": "code",
   "execution_count": 6,
   "metadata": {},
   "outputs": [
    {
     "data": {
      "text/html": [
       "<div>\n",
       "<style scoped>\n",
       "    .dataframe tbody tr th:only-of-type {\n",
       "        vertical-align: middle;\n",
       "    }\n",
       "\n",
       "    .dataframe tbody tr th {\n",
       "        vertical-align: top;\n",
       "    }\n",
       "\n",
       "    .dataframe thead th {\n",
       "        text-align: right;\n",
       "    }\n",
       "</style>\n",
       "<table border=\"1\" class=\"dataframe\">\n",
       "  <thead>\n",
       "    <tr style=\"text-align: right;\">\n",
       "      <th></th>\n",
       "      <th>Time</th>\n",
       "      <th>Country Name</th>\n",
       "      <th>Country Code</th>\n",
       "      <th>GDP per capita, PPP (current international $) [NY.GDP.PCAP.PP.CD]</th>\n",
       "      <th>Current health expenditure per capita, PPP (current international $) [SH.XPD.CHEX.PP.CD]</th>\n",
       "    </tr>\n",
       "  </thead>\n",
       "  <tbody>\n",
       "    <tr>\n",
       "      <th>0</th>\n",
       "      <td>2018</td>\n",
       "      <td>Australia</td>\n",
       "      <td>AUS</td>\n",
       "      <td>50192.957328</td>\n",
       "      <td>5337.97600331473</td>\n",
       "    </tr>\n",
       "  </tbody>\n",
       "</table>\n",
       "</div>"
      ],
      "text/plain": [
       "   Time Country Name Country Code  \\\n",
       "0  2018    Australia          AUS   \n",
       "\n",
       "   GDP per capita, PPP (current international $) [NY.GDP.PCAP.PP.CD]  \\\n",
       "0                                       50192.957328                   \n",
       "\n",
       "  Current health expenditure per capita, PPP (current international $) [SH.XPD.CHEX.PP.CD]  \n",
       "0                                   5337.97600331473                                        "
      ]
     },
     "execution_count": 6,
     "metadata": {},
     "output_type": "execute_result"
    }
   ],
   "source": [
    "# Removing unwanted columns\n",
    "gdp_health_reduced = gdp_health_clean[['Time', 'Country Name', 'Country Code',\n",
    "       'GDP per capita, PPP (current international $) [NY.GDP.PCAP.PP.CD]',\n",
    "       'Current health expenditure per capita, PPP (current international $) [SH.XPD.CHEX.PP.CD]']]\n",
    "\n",
    "gdp_health_reduced.head(1)"
   ]
  },
  {
   "cell_type": "code",
   "execution_count": 7,
   "metadata": {},
   "outputs": [
    {
     "data": {
      "text/plain": [
       "array(['Australia', 'Austria', 'Belgium', 'Canada', 'Czechia', 'Denmark',\n",
       "       'Finland', 'France', 'Germany', 'Greece', 'Hungary', 'Iceland',\n",
       "       'Ireland', 'Italy', 'Japan', 'Korea, Rep.', 'Luxembourg', 'Mexico',\n",
       "       'Netherlands', 'New Zealand', 'Norway', 'Poland', 'Portugal',\n",
       "       'Slovak Republic', 'Spain', 'Sweden', 'Switzerland', 'Turkiye',\n",
       "       'United Kingdom', 'United States', 'Brazil', 'Chile', 'China',\n",
       "       'Estonia', 'India', 'Indonesia', 'Israel', 'Russian Federation',\n",
       "       'Slovenia', 'South Africa', 'Latvia', 'Costa Rica', 'Lithuania',\n",
       "       'Colombia', 'Peru', 'Bulgaria', 'Croatia', 'Romania', 'Argentina',\n",
       "       'Malta', 'Cyprus', nan], dtype=object)"
      ]
     },
     "execution_count": 7,
     "metadata": {},
     "output_type": "execute_result"
    }
   ],
   "source": [
    "# Rename columns \n",
    "gdp_health_df = gdp_health_reduced.rename(columns={'GDP per capita, PPP (current international $) [NY.GDP.PCAP.PP.CD]' : 'GDP per capita, PPP (current international $)' , \n",
    "                                                   'Current health expenditure per capita, PPP (current international $) [SH.XPD.CHEX.PP.CD]' : 'Current health expenditure per capita, PPP (current international $)'})\n",
    "\n",
    "# New DataFrame of most recent year with data available* \n",
    "#   (2021 has several countries with missing info)\n",
    "gdp_health_df_2020 = gdp_health_df.loc[gdp_health_df['Time']== '2020']\n",
    "\n",
    "#gdp_health_df_2020\n",
    "pd.unique(gdp_and_health_df['Country Name'])"
   ]
  },
  {
   "cell_type": "code",
   "execution_count": 8,
   "metadata": {},
   "outputs": [
    {
     "name": "stderr",
     "output_type": "stream",
     "text": [
      "C:\\Users\\chris\\AppData\\Local\\Temp\\ipykernel_7208\\963506661.py:2: SettingWithCopyWarning: \n",
      "A value is trying to be set on a copy of a slice from a DataFrame.\n",
      "Try using .loc[row_indexer,col_indexer] = value instead\n",
      "\n",
      "See the caveats in the documentation: https://pandas.pydata.org/pandas-docs/stable/user_guide/indexing.html#returning-a-view-versus-a-copy\n",
      "  gdp_health_df_2020[\"GDP per capita, PPP (current international $)\"] = gdp_health_df_2020[\"GDP per capita, PPP (current international $)\"].astype('float')\n",
      "C:\\Users\\chris\\AppData\\Local\\Temp\\ipykernel_7208\\963506661.py:3: SettingWithCopyWarning: \n",
      "A value is trying to be set on a copy of a slice from a DataFrame.\n",
      "Try using .loc[row_indexer,col_indexer] = value instead\n",
      "\n",
      "See the caveats in the documentation: https://pandas.pydata.org/pandas-docs/stable/user_guide/indexing.html#returning-a-view-versus-a-copy\n",
      "  gdp_health_df_2020[\"Current health expenditure per capita, PPP (current international $)\"] = gdp_health_df_2020[\"Current health expenditure per capita, PPP (current international $)\"].astype('float')\n"
     ]
    }
   ],
   "source": [
    "# Re-cast series as float type\n",
    "gdp_health_df_2020[\"GDP per capita, PPP (current international $)\"] = gdp_health_df_2020[\"GDP per capita, PPP (current international $)\"].astype('float')\n",
    "gdp_health_df_2020[\"Current health expenditure per capita, PPP (current international $)\"] = gdp_health_df_2020[\"Current health expenditure per capita, PPP (current international $)\"].astype('float')"
   ]
  },
  {
   "cell_type": "code",
   "execution_count": 9,
   "metadata": {},
   "outputs": [
    {
     "name": "stdout",
     "output_type": "stream",
     "text": [
      "51\n"
     ]
    }
   ],
   "source": [
    "gdp_health_df_2020 = gdp_health_df_2020.sort_values(by=['Current health expenditure per capita, PPP (current international $)'])\n",
    "print(len(gdp_health_df_2020))"
   ]
  },
  {
   "cell_type": "code",
   "execution_count": 10,
   "metadata": {},
   "outputs": [],
   "source": [
    "#gdp_health_df_2020"
   ]
  },
  {
   "cell_type": "code",
   "execution_count": 11,
   "metadata": {},
   "outputs": [
    {
     "name": "stdout",
     "output_type": "stream",
     "text": [
      "[100.0, 105.84000989617995, 114.66075801109943, 120.10699694088156, 125.17243711784516, 126.10910115013377, 127.88532785658394, 129.84241799754827, 134.88724323970192, 140.30797288168893, 147.47292034737129, 149.43769424523222, 149.48317746309942, 153.1173627092634, 153.26444106049192, 154.1380803091095, 154.40115778053365, 155.78233406851388, 157.77540617820057, 158.24252530450846, 164.16651096029125, 171.10998069046505, 171.43403158234375, 178.91552524971877, 185.11994843337988, 188.99969804036886, 193.20456883735838, 193.5931310944708, 195.25851935013412, 200.10512776754834, 200.51578306859284, 212.58417259492242, 215.6364396745463, 217.37458846333257, 222.64519178903421, 227.9322249374228, 240.37956046034944, 244.62654365396395, 248.34535979158818, 249.56765447256117, 252.69279969096962, 260.4253156214473, 260.5270718112445, 261.83985507438854, 267.36164371426366, 268.52844804310604, 273.37494910606733, 278.28525059144977, 281.8402935797028, 316.3702438706829, 400.0]\n"
     ]
    }
   ],
   "source": [
    "# Turn health care expenditure column into list\n",
    "values = gdp_health_df_2020['Current health expenditure per capita, PPP (current international $)'].to_list()\n",
    "#print(values)\n",
    "\n",
    "# Scale list for scatter plot sizes\n",
    "def scale_list(original_list, new_min, new_max):\n",
    "    # Find the min and max values in the original list\n",
    "    original_min = min(original_list)\n",
    "    original_max = max(original_list)\n",
    "\n",
    "    # Scale each element in the original list to the new range\n",
    "    scaled_list = [(x - original_min) / (original_max - original_min) * (new_max - new_min) + new_min for x in original_list]\n",
    "\n",
    "    return scaled_list\n",
    "\n",
    "scaled_list = scale_list(values, 100, 400)\n",
    "\n",
    "print(scaled_list)\n",
    "\n"
   ]
  },
  {
   "cell_type": "code",
   "execution_count": 12,
   "metadata": {},
   "outputs": [
    {
     "name": "stdout",
     "output_type": "stream",
     "text": [
      "[100, 105, 114, 120, 125, 126, 127, 129, 134, 140, 147, 149, 149, 153, 153, 154, 154, 155, 157, 158, 164, 171, 171, 178, 185, 188, 193, 193, 195, 200, 200, 212, 215, 217, 222, 227, 240, 244, 248, 249, 252, 260, 260, 261, 267, 268, 273, 278, 281, 316, 400]\n"
     ]
    }
   ],
   "source": [
    "# Round new list to zero decimal places\n",
    "rounded_list = [int(x) for x in scaled_list]\n",
    "\n",
    "print(rounded_list)"
   ]
  },
  {
   "cell_type": "code",
   "execution_count": 13,
   "metadata": {},
   "outputs": [
    {
     "data": {
      "image/png": "[encoded data removed]",
      "text/plain": [
       "<Figure size 1500x400 with 1 Axes>"
      ]
     },
     "metadata": {},
     "output_type": "display_data"
    },
    {
     "data": {
      "text/plain": [
       "<Figure size 640x480 with 0 Axes>"
      ]
     },
     "metadata": {},
     "output_type": "display_data"
    }
   ],
   "source": [
    "# Scatter Plot : Gdp per Capita Vs. Health Expenditure per capita (PPP, current international $)\n",
    "\n",
    "# Determine x & y values\n",
    "x_values = gdp_health_df_2020['GDP per capita, PPP (current international $)']\n",
    "y_values = gdp_health_df_2020['Current health expenditure per capita, PPP (current international $)']\n",
    "\n",
    "# Calculate linear regression\n",
    "(slope, intercept, rvalue, pvalue, stderr) = linregress(x_values, y_values)\n",
    "regress_values = x_values * slope + intercept\n",
    "line_eq = \"y = \" + str(round(slope,2)) + \"x + \" + str(round(intercept,2))\n",
    "# Color and sizees of data points\n",
    "sizes = rounded_list\n",
    "colors = rounded_list\n",
    "# Figure size\n",
    "plt.figure(figsize=(15,4))\n",
    "\n",
    "# Scatter plot x & y values. Add aesthetics\n",
    "plt.scatter(x_values,y_values, c= colors, cmap='BuGn', \n",
    "            s= sizes, edgecolor='black', linewidth= 1, alpha=1) \n",
    "plt.plot(x_values, regress_values, \"k-\")\n",
    "\n",
    "# Set x & y limits\n",
    "plt.xlim(10000, 80000)\n",
    "plt.ylim(0, 13000)\n",
    "\n",
    "# Set plot lables & title\n",
    "plt.xlabel('GDP Per Capita', fontsize=7)\n",
    "plt.ylabel('Health expenditure per capita', fontsize=7)\n",
    "plt.title('GDP per capita and Health Expenditure per capita, 2020 (PPP, current international $)')\n",
    "plt.grid(alpha=.25)\n",
    "plt.show()\n",
    "plt.savefig('Output/gdp_health_exp_scatter.pdf')\n",
    "\n"
   ]
  },
  {
   "cell_type": "code",
   "execution_count": 15,
   "metadata": {},
   "outputs": [
    {
     "data": {
      "text/html": [
       "<div>\n",
       "<style scoped>\n",
       "    .dataframe tbody tr th:only-of-type {\n",
       "        vertical-align: middle;\n",
       "    }\n",
       "\n",
       "    .dataframe tbody tr th {\n",
       "        vertical-align: top;\n",
       "    }\n",
       "\n",
       "    .dataframe thead th {\n",
       "        text-align: right;\n",
       "    }\n",
       "</style>\n",
       "<table border=\"1\" class=\"dataframe\">\n",
       "  <thead>\n",
       "    <tr style=\"text-align: right;\">\n",
       "      <th></th>\n",
       "      <th>Time</th>\n",
       "      <th>Country Name</th>\n",
       "      <th>Country Code</th>\n",
       "      <th>GDP per capita, PPP (current international $)</th>\n",
       "      <th>Current health expenditure per capita, PPP (current international $)</th>\n",
       "    </tr>\n",
       "  </thead>\n",
       "  <tbody>\n",
       "    <tr>\n",
       "      <th>136</th>\n",
       "      <td>2020</td>\n",
       "      <td>India</td>\n",
       "      <td>IND</td>\n",
       "      <td>6517.761388</td>\n",
       "      <td>190.738255</td>\n",
       "    </tr>\n",
       "    <tr>\n",
       "      <th>137</th>\n",
       "      <td>2020</td>\n",
       "      <td>Indonesia</td>\n",
       "      <td>IDN</td>\n",
       "      <td>12160.716762</td>\n",
       "      <td>414.832493</td>\n",
       "    </tr>\n",
       "    <tr>\n",
       "      <th>146</th>\n",
       "      <td>2020</td>\n",
       "      <td>Peru</td>\n",
       "      <td>PER</td>\n",
       "      <td>11813.988436</td>\n",
       "      <td>753.304322</td>\n",
       "    </tr>\n",
       "    <tr>\n",
       "      <th>134</th>\n",
       "      <td>2020</td>\n",
       "      <td>China</td>\n",
       "      <td>CHN</td>\n",
       "      <td>17209.442954</td>\n",
       "      <td>962.288688</td>\n",
       "    </tr>\n",
       "    <tr>\n",
       "      <th>141</th>\n",
       "      <td>2020</td>\n",
       "      <td>South Africa</td>\n",
       "      <td>ZAF</td>\n",
       "      <td>13533.776252</td>\n",
       "      <td>1156.660954</td>\n",
       "    </tr>\n",
       "  </tbody>\n",
       "</table>\n",
       "</div>"
      ],
      "text/plain": [
       "     Time  Country Name Country Code  \\\n",
       "136  2020         India          IND   \n",
       "137  2020     Indonesia          IDN   \n",
       "146  2020          Peru          PER   \n",
       "134  2020         China          CHN   \n",
       "141  2020  South Africa          ZAF   \n",
       "\n",
       "     GDP per capita, PPP (current international $)  \\\n",
       "136                                    6517.761388   \n",
       "137                                   12160.716762   \n",
       "146                                   11813.988436   \n",
       "134                                   17209.442954   \n",
       "141                                   13533.776252   \n",
       "\n",
       "     Current health expenditure per capita, PPP (current international $)  \n",
       "136                                         190.738255                     \n",
       "137                                         414.832493                     \n",
       "146                                         753.304322                     \n",
       "134                                         962.288688                     \n",
       "141                                        1156.660954                     "
      ]
     },
     "execution_count": 15,
     "metadata": {},
     "output_type": "execute_result"
    }
   ],
   "source": [
    "gdp_health_df_2020.head()"
   ]
  },
  {
   "cell_type": "code",
   "execution_count": 24,
   "metadata": {},
   "outputs": [
    {
     "data": {
      "application/vnd.plotly.v1+json": {
       "config": {
        "plotlyServerURL": "https://plot.ly"
       },
       "data": [
        {
         "customdata": [
          [
           "India"
          ],
          [
           "Indonesia"
          ],
          [
           "Peru"
          ],
          [
           "China"
          ],
          [
           "South Africa"
          ],
          [
           "Mexico"
          ],
          [
           "Turkiye"
          ],
          [
           "Colombia"
          ],
          [
           "Brazil"
          ],
          [
           "Costa Rica"
          ],
          [
           "Romania"
          ],
          [
           "Bulgaria"
          ],
          [
           "Argentina"
          ],
          [
           "Croatia"
          ],
          [
           "Poland"
          ],
          [
           "Slovak Republic"
          ],
          [
           "Russian Federation"
          ],
          [
           "Latvia"
          ],
          [
           "Hungary"
          ],
          [
           "Chile"
          ],
          [
           "Greece"
          ],
          [
           "Estonia"
          ],
          [
           "Lithuania"
          ],
          [
           "Cyprus"
          ],
          [
           "Israel"
          ],
          [
           "Portugal"
          ],
          [
           "Slovenia"
          ],
          [
           "Korea, Rep."
          ],
          [
           "Czechia"
          ],
          [
           "Italy"
          ],
          [
           "Spain"
          ],
          [
           "New Zealand"
          ],
          [
           "Japan"
          ],
          [
           "Malta"
          ],
          [
           "Finland"
          ],
          [
           "Iceland"
          ],
          [
           "United Kingdom"
          ],
          [
           "France"
          ],
          [
           "Belgium"
          ],
          [
           "Australia"
          ],
          [
           "Canada"
          ],
          [
           "Sweden"
          ],
          [
           "Denmark"
          ],
          [
           "Austria"
          ],
          [
           "Netherlands"
          ],
          [
           "Ireland"
          ],
          [
           "Luxembourg"
          ],
          [
           "Germany"
          ],
          [
           "Norway"
          ],
          [
           "Switzerland"
          ],
          [
           "United States"
          ]
         ],
         "hovertemplate": "GDP per capita, PPP (current international $)=%{marker.color}<br>Current health expenditure per capita, PPP (current international $)=%{y}<br>Country Name=%{customdata[0]}<extra></extra>",
         "legendgroup": "",
         "marker": {
          "color": [
           6517.76138754341,
           12160.7167616838,
           11813.9884362791,
           17209.4429539743,
           13533.776252019,
           18522.0021654377,
           27724.3886169903,
           15103.0738208886,
           14900.104216322,
           21693.6728159398,
           33336.1810967036,
           25296.0709365879,
           20787.857870615,
           29690.153680402,
           35315.7172595773,
           32922.0747645603,
           30011.57421875,
           33018.6241671621,
           34169.9222845578,
           24941.2350880403,
           28416.5239017982,
           39441.849084436,
           40176.4600412493,
           41425.92578125,
           40219.2685206562,
           34955.7054882649,
           40871.8252600524,
           44694.7336959843,
           42827.0600062247,
           43144.4064185475,
           37988.0295324103,
           45554.9329391839,
           41683.9155842443,
           44925.8311849825,
           52305.2893109382,
           54303.9041694279,
           45872.0272893147,
           48134.959794619,
           54569.9253850181,
           53066.4909886668,
           47226.3651403334,
           56140.5523953504,
           60832.1582906885,
           57258.6902272271,
           59822.954267638,
           93942.6057474311,
           120010.208308273,
           56482.4756342562,
           65130.1721871608,
           70810.8206896136,
           63528.6343027508
          ],
          "coloraxis": "coloraxis",
          "size": [
           6517.76138754341,
           12160.7167616838,
           11813.9884362791,
           17209.4429539743,
           13533.776252019,
           18522.0021654377,
           27724.3886169903,
           15103.0738208886,
           14900.104216322,
           21693.6728159398,
           33336.1810967036,
           25296.0709365879,
           20787.857870615,
           29690.153680402,
           35315.7172595773,
           32922.0747645603,
           30011.57421875,
           33018.6241671621,
           34169.9222845578,
           24941.2350880403,
           28416.5239017982,
           39441.849084436,
           40176.4600412493,
           41425.92578125,
           40219.2685206562,
           34955.7054882649,
           40871.8252600524,
           44694.7336959843,
           42827.0600062247,
           43144.4064185475,
           37988.0295324103,
           45554.9329391839,
           41683.9155842443,
           44925.8311849825,
           52305.2893109382,
           54303.9041694279,
           45872.0272893147,
           48134.959794619,
           54569.9253850181,
           53066.4909886668,
           47226.3651403334,
           56140.5523953504,
           60832.1582906885,
           57258.6902272271,
           59822.954267638,
           93942.6057474311,
           120010.208308273,
           56482.4756342562,
           65130.1721871608,
           70810.8206896136,
           63528.6343027508
          ],
          "sizemode": "area",
          "sizeref": 300.0255207706825,
          "symbol": "circle"
         },
         "mode": "markers",
         "name": "",
         "orientation": "v",
         "showlegend": false,
         "type": "scatter",
         "x": [
          6517.76138754341,
          12160.7167616838,
          11813.9884362791,
          17209.4429539743,
          13533.776252019,
          18522.0021654377,
          27724.3886169903,
          15103.0738208886,
          14900.104216322,
          21693.6728159398,
          33336.1810967036,
          25296.0709365879,
          20787.857870615,
          29690.153680402,
          35315.7172595773,
          32922.0747645603,
          30011.57421875,
          33018.6241671621,
          34169.9222845578,
          24941.2350880403,
          28416.5239017982,
          39441.849084436,
          40176.4600412493,
          41425.92578125,
          40219.2685206562,
          34955.7054882649,
          40871.8252600524,
          44694.7336959843,
          42827.0600062247,
          43144.4064185475,
          37988.0295324103,
          45554.9329391839,
          41683.9155842443,
          44925.8311849825,
          52305.2893109382,
          54303.9041694279,
          45872.0272893147,
          48134.959794619,
          54569.9253850181,
          53066.4909886668,
          47226.3651403334,
          56140.5523953504,
          60832.1582906885,
          57258.6902272271,
          59822.954267638,
          93942.6057474311,
          120010.208308273,
          56482.4756342562,
          65130.1721871608,
          70810.8206896136,
          63528.6343027508
         ],
         "xaxis": "x",
         "y": [
          190.738255114722,
          414.832493455337,
          753.304322364442,
          962.288688228079,
          1156.66095445645,
          1192.60284781421,
          1260.76063829374,
          1335.85856317743,
          1529.43978826087,
          1737.44530571146,
          2012.38036123643,
          2087.7731290536,
          2089.51842182646,
          2228.97023598529,
          2234.61396119824,
          2268.13745267922,
          2278.2323235153,
          2331.23114608091,
          2407.70977956239,
          2425.63418494615,
          2652.95076095773,
          2919.38722053329,
          2931.82177785256,
          3218.90341895341,
          3456.98100998538,
          3605.8556777662,
          3767.20597259848,
          3782.11597525318,
          3846.02064653437,
          4031.99584882745,
          4047.75361097924,
          4510.84470277169,
          4627.96701567528,
          4694.66367130946,
          4896.90850631243,
          5099.78379035,
          5577.41588737862,
          5740.38212903533,
          5883.08141973941,
          5929.98359977503,
          6049.90240982382,
          6346.61633646126,
          6350.52094899693,
          6400.89537826853,
          6612.77875544227,
          6657.55164658677,
          6843.52272944944,
          7031.94197718211,
          7168.3569259379,
          8493.34832971241,
          11702.4090737138
         ],
         "yaxis": "y"
        }
       ],
       "layout": {
        "coloraxis": {
         "colorbar": {
          "title": {
           "text": "GDP per capita, PPP (current international $)"
          }
         },
         "colorscale": [
          [
           0,
           "#0d0887"
          ],
          [
           0.1111111111111111,
           "#46039f"
          ],
          [
           0.2222222222222222,
           "#7201a8"
          ],
          [
           0.3333333333333333,
           "#9c179e"
          ],
          [
           0.4444444444444444,
           "#bd3786"
          ],
          [
           0.5555555555555556,
           "#d8576b"
          ],
          [
           0.6666666666666666,
           "#ed7953"
          ],
          [
           0.7777777777777778,
           "#fb9f3a"
          ],
          [
           0.8888888888888888,
           "#fdca26"
          ],
          [
           1,
           "#f0f921"
          ]
         ]
        },
        "legend": {
         "itemsizing": "constant",
         "tracegroupgap": 0
        },
        "shapes": [
         {
          "line": {
           "color": "red",
           "dash": "dash"
          },
          "type": "line",
          "x0": 40871.23608552993,
          "x1": 40871.23608552993,
          "y0": 6517.76138754341,
          "y1": 120010.208308273
         },
         {
          "line": {
           "color": "blue",
           "dash": "dash"
          },
          "type": "line",
          "x0": 190.738255114722,
          "x1": 11702.4090737138,
          "y0": 3878.000000139696,
          "y1": 3878.000000139696
         }
        ],
        "template": {
         "data": {
          "bar": [
           {
            "error_x": {
             "color": "#f2f5fa"
            },
            "error_y": {
             "color": "#f2f5fa"
            },
            "marker": {
             "line": {
              "color": "rgb(17,17,17)",
              "width": 0.5
             },
             "pattern": {
              "fillmode": "overlay",
              "size": 10,
              "solidity": 0.2
             }
            },
            "type": "bar"
           }
          ],
          "barpolar": [
           {
            "marker": {
             "line": {
              "color": "rgb(17,17,17)",
              "width": 0.5
             },
             "pattern": {
              "fillmode": "overlay",
              "size": 10,
              "solidity": 0.2
             }
            },
            "type": "barpolar"
           }
          ],
          "carpet": [
           {
            "aaxis": {
             "endlinecolor": "#A2B1C6",
             "gridcolor": "#506784",
             "linecolor": "#506784",
             "minorgridcolor": "#506784",
             "startlinecolor": "#A2B1C6"
            },
            "baxis": {
             "endlinecolor": "#A2B1C6",
             "gridcolor": "#506784",
             "linecolor": "#506784",
             "minorgridcolor": "#506784",
             "startlinecolor": "#A2B1C6"
            },
            "type": "carpet"
           }
          ],
          "choropleth": [
           {
            "colorbar": {
             "outlinewidth": 0,
             "ticks": ""
            },
            "type": "choropleth"
           }
          ],
          "contour": [
           {
            "colorbar": {
             "outlinewidth": 0,
             "ticks": ""
            },
            "colorscale": [
             [
              0,
              "#0d0887"
             ],
             [
              0.1111111111111111,
              "#46039f"
             ],
             [
              0.2222222222222222,
              "#7201a8"
             ],
             [
              0.3333333333333333,
              "#9c179e"
             ],
             [
              0.4444444444444444,
              "#bd3786"
             ],
             [
              0.5555555555555556,
              "#d8576b"
             ],
             [
              0.6666666666666666,
              "#ed7953"
             ],
             [
              0.7777777777777778,
              "#fb9f3a"
             ],
             [
              0.8888888888888888,
              "#fdca26"
             ],
             [
              1,
              "#f0f921"
             ]
            ],
            "type": "contour"
           }
          ],
          "contourcarpet": [
           {
            "colorbar": {
             "outlinewidth": 0,
             "ticks": ""
            },
            "type": "contourcarpet"
           }
          ],
          "heatmap": [
           {
            "colorbar": {
             "outlinewidth": 0,
             "ticks": ""
            },
            "colorscale": [
             [
              0,
              "#0d0887"
             ],
             [
              0.1111111111111111,
              "#46039f"
             ],
             [
              0.2222222222222222,
              "#7201a8"
             ],
             [
              0.3333333333333333,
              "#9c179e"
             ],
             [
              0.4444444444444444,
              "#bd3786"
             ],
             [
              0.5555555555555556,
              "#d8576b"
             ],
             [
              0.6666666666666666,
              "#ed7953"
             ],
             [
              0.7777777777777778,
              "#fb9f3a"
             ],
             [
              0.8888888888888888,
              "#fdca26"
             ],
             [
              1,
              "#f0f921"
             ]
            ],
            "type": "heatmap"
           }
          ],
          "heatmapgl": [
           {
            "colorbar": {
             "outlinewidth": 0,
             "ticks": ""
            },
            "colorscale": [
             [
              0,
              "#0d0887"
             ],
             [
              0.1111111111111111,
              "#46039f"
             ],
             [
              0.2222222222222222,
              "#7201a8"
             ],
             [
              0.3333333333333333,
              "#9c179e"
             ],
             [
              0.4444444444444444,
              "#bd3786"
             ],
             [
              0.5555555555555556,
              "#d8576b"
             ],
             [
              0.6666666666666666,
              "#ed7953"
             ],
             [
              0.7777777777777778,
              "#fb9f3a"
             ],
             [
              0.8888888888888888,
              "#fdca26"
             ],
             [
              1,
              "#f0f921"
             ]
            ],
            "type": "heatmapgl"
           }
          ],
          "histogram": [
           {
            "marker": {
             "pattern": {
              "fillmode": "overlay",
              "size": 10,
              "solidity": 0.2
             }
            },
            "type": "histogram"
           }
          ],
          "histogram2d": [
           {
            "colorbar": {
             "outlinewidth": 0,
             "ticks": ""
            },
            "colorscale": [
             [
              0,
              "#0d0887"
             ],
             [
              0.1111111111111111,
              "#46039f"
             ],
             [
              0.2222222222222222,
              "#7201a8"
             ],
             [
              0.3333333333333333,
              "#9c179e"
             ],
             [
              0.4444444444444444,
              "#bd3786"
             ],
             [
              0.5555555555555556,
              "#d8576b"
             ],
             [
              0.6666666666666666,
              "#ed7953"
             ],
             [
              0.7777777777777778,
              "#fb9f3a"
             ],
             [
              0.8888888888888888,
              "#fdca26"
             ],
             [
              1,
              "#f0f921"
             ]
            ],
            "type": "histogram2d"
           }
          ],
          "histogram2dcontour": [
           {
            "colorbar": {
             "outlinewidth": 0,
             "ticks": ""
            },
            "colorscale": [
             [
              0,
              "#0d0887"
             ],
             [
              0.1111111111111111,
              "#46039f"
             ],
             [
              0.2222222222222222,
              "#7201a8"
             ],
             [
              0.3333333333333333,
              "#9c179e"
             ],
             [
              0.4444444444444444,
              "#bd3786"
             ],
             [
              0.5555555555555556,
              "#d8576b"
             ],
             [
              0.6666666666666666,
              "#ed7953"
             ],
             [
              0.7777777777777778,
              "#fb9f3a"
             ],
             [
              0.8888888888888888,
              "#fdca26"
             ],
             [
              1,
              "#f0f921"
             ]
            ],
            "type": "histogram2dcontour"
           }
          ],
          "mesh3d": [
           {
            "colorbar": {
             "outlinewidth": 0,
             "ticks": ""
            },
            "type": "mesh3d"
           }
          ],
          "parcoords": [
           {
            "line": {
             "colorbar": {
              "outlinewidth": 0,
              "ticks": ""
             }
            },
            "type": "parcoords"
           }
          ],
          "pie": [
           {
            "automargin": true,
            "type": "pie"
           }
          ],
          "scatter": [
           {
            "marker": {
             "line": {
              "color": "#283442"
             }
            },
            "type": "scatter"
           }
          ],
          "scatter3d": [
           {
            "line": {
             "colorbar": {
              "outlinewidth": 0,
              "ticks": ""
             }
            },
            "marker": {
             "colorbar": {
              "outlinewidth": 0,
              "ticks": ""
             }
            },
            "type": "scatter3d"
           }
          ],
          "scattercarpet": [
           {
            "marker": {
             "colorbar": {
              "outlinewidth": 0,
              "ticks": ""
             }
            },
            "type": "scattercarpet"
           }
          ],
          "scattergeo": [
           {
            "marker": {
             "colorbar": {
              "outlinewidth": 0,
              "ticks": ""
             }
            },
            "type": "scattergeo"
           }
          ],
          "scattergl": [
           {
            "marker": {
             "line": {
              "color": "#283442"
             }
            },
            "type": "scattergl"
           }
          ],
          "scattermapbox": [
           {
            "marker": {
             "colorbar": {
              "outlinewidth": 0,
              "ticks": ""
             }
            },
            "type": "scattermapbox"
           }
          ],
          "scatterpolar": [
           {
            "marker": {
             "colorbar": {
              "outlinewidth": 0,
              "ticks": ""
             }
            },
            "type": "scatterpolar"
           }
          ],
          "scatterpolargl": [
           {
            "marker": {
             "colorbar": {
              "outlinewidth": 0,
              "ticks": ""
             }
            },
            "type": "scatterpolargl"
           }
          ],
          "scatterternary": [
           {
            "marker": {
             "colorbar": {
              "outlinewidth": 0,
              "ticks": ""
             }
            },
            "type": "scatterternary"
           }
          ],
          "surface": [
           {
            "colorbar": {
             "outlinewidth": 0,
             "ticks": ""
            },
            "colorscale": [
             [
              0,
              "#0d0887"
             ],
             [
              0.1111111111111111,
              "#46039f"
             ],
             [
              0.2222222222222222,
              "#7201a8"
             ],
             [
              0.3333333333333333,
              "#9c179e"
             ],
             [
              0.4444444444444444,
              "#bd3786"
             ],
             [
              0.5555555555555556,
              "#d8576b"
             ],
             [
              0.6666666666666666,
              "#ed7953"
             ],
             [
              0.7777777777777778,
              "#fb9f3a"
             ],
             [
              0.8888888888888888,
              "#fdca26"
             ],
             [
              1,
              "#f0f921"
             ]
            ],
            "type": "surface"
           }
          ],
          "table": [
           {
            "cells": {
             "fill": {
              "color": "#506784"
             },
             "line": {
              "color": "rgb(17,17,17)"
             }
            },
            "header": {
             "fill": {
              "color": "#2a3f5f"
             },
             "line": {
              "color": "rgb(17,17,17)"
             }
            },
            "type": "table"
           }
          ]
         },
         "layout": {
          "annotationdefaults": {
           "arrowcolor": "#f2f5fa",
           "arrowhead": 0,
           "arrowwidth": 1
          },
          "autotypenumbers": "strict",
          "coloraxis": {
           "colorbar": {
            "outlinewidth": 0,
            "ticks": ""
           }
          },
          "colorscale": {
           "diverging": [
            [
             0,
             "#8e0152"
            ],
            [
             0.1,
             "#c51b7d"
            ],
            [
             0.2,
             "#de77ae"
            ],
            [
             0.3,
             "#f1b6da"
            ],
            [
             0.4,
             "#fde0ef"
            ],
            [
             0.5,
             "#f7f7f7"
            ],
            [
             0.6,
             "#e6f5d0"
            ],
            [
             0.7,
             "#b8e186"
            ],
            [
             0.8,
             "#7fbc41"
            ],
            [
             0.9,
             "#4d9221"
            ],
            [
             1,
             "#276419"
            ]
           ],
           "sequential": [
            [
             0,
             "#0d0887"
            ],
            [
             0.1111111111111111,
             "#46039f"
            ],
            [
             0.2222222222222222,
             "#7201a8"
            ],
            [
             0.3333333333333333,
             "#9c179e"
            ],
            [
             0.4444444444444444,
             "#bd3786"
            ],
            [
             0.5555555555555556,
             "#d8576b"
            ],
            [
             0.6666666666666666,
             "#ed7953"
            ],
            [
             0.7777777777777778,
             "#fb9f3a"
            ],
            [
             0.8888888888888888,
             "#fdca26"
            ],
            [
             1,
             "#f0f921"
            ]
           ],
           "sequentialminus": [
            [
             0,
             "#0d0887"
            ],
            [
             0.1111111111111111,
             "#46039f"
            ],
            [
             0.2222222222222222,
             "#7201a8"
            ],
            [
             0.3333333333333333,
             "#9c179e"
            ],
            [
             0.4444444444444444,
             "#bd3786"
            ],
            [
             0.5555555555555556,
             "#d8576b"
            ],
            [
             0.6666666666666666,
             "#ed7953"
            ],
            [
             0.7777777777777778,
             "#fb9f3a"
            ],
            [
             0.8888888888888888,
             "#fdca26"
            ],
            [
             1,
             "#f0f921"
            ]
           ]
          },
          "colorway": [
           "#636efa",
           "#EF553B",
           "#00cc96",
           "#ab63fa",
           "#FFA15A",
           "#19d3f3",
           "#FF6692",
           "#B6E880",
           "#FF97FF",
           "#FECB52"
          ],
          "font": {
           "color": "#f2f5fa"
          },
          "geo": {
           "bgcolor": "rgb(17,17,17)",
           "lakecolor": "rgb(17,17,17)",
           "landcolor": "rgb(17,17,17)",
           "showlakes": true,
           "showland": true,
           "subunitcolor": "#506784"
          },
          "hoverlabel": {
           "align": "left"
          },
          "hovermode": "closest",
          "mapbox": {
           "style": "dark"
          },
          "paper_bgcolor": "rgb(17,17,17)",
          "plot_bgcolor": "rgb(17,17,17)",
          "polar": {
           "angularaxis": {
            "gridcolor": "#506784",
            "linecolor": "#506784",
            "ticks": ""
           },
           "bgcolor": "rgb(17,17,17)",
           "radialaxis": {
            "gridcolor": "#506784",
            "linecolor": "#506784",
            "ticks": ""
           }
          },
          "scene": {
           "xaxis": {
            "backgroundcolor": "rgb(17,17,17)",
            "gridcolor": "#506784",
            "gridwidth": 2,
            "linecolor": "#506784",
            "showbackground": true,
            "ticks": "",
            "zerolinecolor": "#C8D4E3"
           },
           "yaxis": {
            "backgroundcolor": "rgb(17,17,17)",
            "gridcolor": "#506784",
            "gridwidth": 2,
            "linecolor": "#506784",
            "showbackground": true,
            "ticks": "",
            "zerolinecolor": "#C8D4E3"
           },
           "zaxis": {
            "backgroundcolor": "rgb(17,17,17)",
            "gridcolor": "#506784",
            "gridwidth": 2,
            "linecolor": "#506784",
            "showbackground": true,
            "ticks": "",
            "zerolinecolor": "#C8D4E3"
           }
          },
          "shapedefaults": {
           "line": {
            "color": "#f2f5fa"
           }
          },
          "sliderdefaults": {
           "bgcolor": "#C8D4E3",
           "bordercolor": "rgb(17,17,17)",
           "borderwidth": 1,
           "tickwidth": 0
          },
          "ternary": {
           "aaxis": {
            "gridcolor": "#506784",
            "linecolor": "#506784",
            "ticks": ""
           },
           "baxis": {
            "gridcolor": "#506784",
            "linecolor": "#506784",
            "ticks": ""
           },
           "bgcolor": "rgb(17,17,17)",
           "caxis": {
            "gridcolor": "#506784",
            "linecolor": "#506784",
            "ticks": ""
           }
          },
          "title": {
           "x": 0.05
          },
          "updatemenudefaults": {
           "bgcolor": "#506784",
           "borderwidth": 0
          },
          "xaxis": {
           "automargin": true,
           "gridcolor": "#283442",
           "linecolor": "#506784",
           "ticks": "",
           "title": {
            "standoff": 15
           },
           "zerolinecolor": "#283442",
           "zerolinewidth": 2
          },
          "yaxis": {
           "automargin": true,
           "gridcolor": "#283442",
           "linecolor": "#506784",
           "ticks": "",
           "title": {
            "standoff": 15
           },
           "zerolinecolor": "#283442",
           "zerolinewidth": 2
          }
         }
        },
        "title": {
         "text": "GDP per capita and Health Expenditure per capita, 2020 (PPP, current international $)"
        },
        "xaxis": {
         "anchor": "y",
         "domain": [
          0,
          1
         ],
         "title": {
          "text": "GDP per capita"
         }
        },
        "yaxis": {
         "anchor": "x",
         "domain": [
          0,
          1
         ],
         "range": [
          0,
          13000
         ],
         "title": {
          "text": "Health expenditure per capita"
         }
        }
       }
      }
     },
     "metadata": {},
     "output_type": "display_data"
    }
   ],
   "source": [
    "mean_health = gdp_health_df_2020['Current health expenditure per capita, PPP (current international $)'].mean()\n",
    "mean_gdp = gdp_health_df_2020['GDP per capita, PPP (current international $)'].mean()\n",
    "\n",
    "# Scatter plot using plotly\n",
    "fig = px.scatter(gdp_health_df_2020, x='GDP per capita, PPP (current international $)', y='Current health expenditure per capita, PPP (current international $)', \n",
    "                 color='GDP per capita, PPP (current international $)', size='GDP per capita, PPP (current international $)',\n",
    "                 hover_data=['Country Name', 'GDP per capita, PPP (current international $)', 'Current health expenditure per capita, PPP (current international $)'],\n",
    "                 title='GDP per capita and Health Expenditure per capita, 2020 (PPP, current international $)',\n",
    "                 template='plotly_dark')\n",
    "\n",
    "#labels={'life_expectancy': 'Life Expectancy'},\n",
    "# Set ranges for y-axis and x-axis dynamically\n",
    "y_range = [gdp_health_df_2020['GDP per capita, PPP (current international $)'].min(), gdp_health_df_2020['GDP per capita, PPP (current international $)'].max()]\n",
    "x_range = [gdp_health_df_2020['Current health expenditure per capita, PPP (current international $)'].min(), gdp_health_df_2020['Current health expenditure per capita, PPP (current international $)'].max()]\n",
    "\n",
    "# Add mean lines\n",
    "fig.add_shape(dict(type='line', x0=mean_gdp, x1=mean_gdp,\n",
    "                   y0=y_range[0], y1=y_range[1],\n",
    "                   line=dict(color='red', dash='dash')))\n",
    "\n",
    "fig.add_shape(dict(type='line', y0=mean_health, y1=mean_health,\n",
    "                   x0=x_range[0], x1=x_range[1],\n",
    "                   line=dict(color='blue', dash='dash')))\n",
    "fig.update_layout(yaxis_range=[0,13000])\n",
    "\n",
    "fig.update_layout(xaxis_title='GDP per capita',\n",
    "                  yaxis_title='Health expenditure per capita')\n",
    "# Show the plot\n",
    "fig.show()\n"
   ]
  },
  {
   "cell_type": "code",
   "execution_count": 26,
   "metadata": {},
   "outputs": [],
   "source": [
    "health = gdp_health_df_2020[\"Current health expenditure per capita, PPP (current international $)\"]\n",
    "gdp = gdp_health_df_2020[\"GDP per capita, PPP (current international $)\"]"
   ]
  },
  {
   "cell_type": "code",
   "execution_count": 28,
   "metadata": {},
   "outputs": [
    {
     "name": "stdout",
     "output_type": "stream",
     "text": [
      "The correlation coefficient between Gdp Per Capita and Health Expenditure per Capita is 0.83\n"
     ]
    }
   ],
   "source": [
    "print(f\"The correlation coefficient between Gdp Per Capita and Health Expenditure per Capita is {round(st.pearsonr(gdp,health)[0],2)}\")"
   ]
  }
 ],
 "metadata": {
  "kernelspec": {
   "display_name": "dev",
   "language": "python",
   "name": "python3"
  },
  "language_info": {
   "codemirror_mode": {
    "name": "ipython",
    "version": 3
   },
   "file_extension": ".py",
   "mimetype": "text/x-python",
   "name": "python",
   "nbconvert_exporter": "python",
   "pygments_lexer": "ipython3",
   "version": "3.10.13"
  }
 },
 "nbformat": 4,
 "nbformat_minor": 2
}
